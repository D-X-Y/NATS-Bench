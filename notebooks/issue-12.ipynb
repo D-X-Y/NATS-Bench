{
 "cells": [
  {
   "cell_type": "code",
   "execution_count": 1,
   "metadata": {},
   "outputs": [
    {
     "name": "stdout",
     "output_type": "stream",
     "text": [
      "[2021-04-30 03:41:23] Try to use the default NATS-Bench (topology) path from fast_mode=True and path=None.\n"
     ]
    }
   ],
   "source": [
    "from nats_bench import create\n",
    "from nats_bench.api_utils import time_string\n",
    "import numpy as np\n",
    "\n",
    "# Create the API for size search space\n",
    "api = create(None, 'tss', fast_mode=True, verbose=False)"
   ]
  },
  {
   "cell_type": "code",
   "execution_count": 2,
   "metadata": {},
   "outputs": [
    {
     "name": "stdout",
     "output_type": "stream",
     "text": [
      "[2021-04-30 03:41:23] There are 15625 architectures on the topology search space\n",
      "[2021-04-30 03:41:24] There are 6466 isomorphism architectures on the topology search space\n"
     ]
    }
   ],
   "source": [
    "print('{:} There are {:} architectures on the topology search space'.format(time_string(), len(api)))\n",
    "\n",
    "unique_strs = []\n",
    "for index in range(len(api)):\n",
    "    unique_str = api.get_unique_str(index)\n",
    "    unique_strs.append(unique_str)\n",
    "print('{:} There are {:} isomorphism architectures on the topology search space'.format(time_string(), len(set(unique_strs))))"
   ]
  }
 ],
 "metadata": {
  "kernelspec": {
   "display_name": "Python 3",
   "language": "python",
   "name": "python3"
  },
  "language_info": {
   "codemirror_mode": {
    "name": "ipython",
    "version": 3
   },
   "file_extension": ".py",
   "mimetype": "text/x-python",
   "name": "python",
   "nbconvert_exporter": "python",
   "pygments_lexer": "ipython3",
   "version": "3.8.8"
  }
 },
 "nbformat": 4,
 "nbformat_minor": 4
}
