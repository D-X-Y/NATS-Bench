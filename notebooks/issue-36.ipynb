{
 "cells": [
  {
   "cell_type": "code",
   "execution_count": 1,
   "metadata": {},
   "outputs": [],
   "source": [
    "from nats_bench import create\n",
    "from tqdm import tqdm\n",
    "import numpy as np\n",
    "\n",
    "def close_to(a, b, eps=1e-4):\n",
    "    if b != 0 and abs(a-b) / abs(b) > eps:\n",
    "        return False\n",
    "    if a != 0 and abs(a-b) / abs(a) > eps:\n",
    "        return False\n",
    "    return True"
   ]
  },
  {
   "cell_type": "code",
   "execution_count": 2,
   "metadata": {},
   "outputs": [],
   "source": [
    "def check_flops_params(xapi):\n",
    "    print(f\"Check {xapi}\")\n",
    "    datasets = (\"cifar10-valid\", \"cifar10\", \"cifar100\", \"ImageNet16-120\")\n",
    "    counts = 0\n",
    "    for index in tqdm(range(len(xapi))):\n",
    "        for dataset in datasets:\n",
    "            info_12 = api.get_cost_info(index, dataset, hp=\"12\")\n",
    "            info_full = api.get_cost_info(index, dataset, hp=xapi.full_epochs_in_paper)\n",
    "            assert close_to(info_12['flops'], info_full['flops']), f\"The {index}-th \" \\\n",
    "            f\"architecture has issues on {dataset} \" \\\n",
    "            f\"-- {info_12['flops']} vs {info_full['flops']}.\"  # check the FLOPs\n",
    "            assert close_to(info_12['params'], info_full['params']), f\"The {index}-th \" \\\n",
    "            f\"architecture has issues on {dataset} \" \\\n",
    "            f\"-- {info_12['params']} vs {info_full['params']}.\"  # check the number of parameters\n",
    "            counts += 1\n",
    "    print(f\"Check {xapi} completed -- {counts} arch-dataset pairs.\")"
   ]
  },
  {
   "cell_type": "code",
   "execution_count": null,
   "metadata": {},
   "outputs": [
    {
     "name": "stderr",
     "output_type": "stream",
     "text": [
      "  0%|          | 3/32768 [00:00<19:31, 27.97it/s]"
     ]
    },
    {
     "name": "stdout",
     "output_type": "stream",
     "text": [
      "[2022-01-19 23:22:51] Try to use the default NATS-Bench (size) path from fast_mode=True and path=None.\n",
      "There are 32768 architectures in the size search space -- NATSsize(0/32768 architectures, fast_mode=True, file=None)\n",
      "Check NATSsize(0/32768 architectures, fast_mode=True, file=None)\n"
     ]
    },
    {
     "name": "stderr",
     "output_type": "stream",
     "text": [
      "  4%|▍         | 1350/32768 [00:43<16:55, 30.94it/s]"
     ]
    }
   ],
   "source": [
    "# Create the API for size search space\n",
    "api = create(None, 'sss', fast_mode=True, verbose=False)\n",
    "print(f'There are {len(api)} architectures in the size search space -- {api}')\n",
    "check_flops_params(api)"
   ]
  },
  {
   "cell_type": "code",
   "execution_count": null,
   "metadata": {},
   "outputs": [],
   "source": []
  }
 ],
 "metadata": {
  "kernelspec": {
   "display_name": "Python 3",
   "language": "python",
   "name": "python3"
  },
  "language_info": {
   "codemirror_mode": {
    "name": "ipython",
    "version": 3
   },
   "file_extension": ".py",
   "mimetype": "text/x-python",
   "name": "python",
   "nbconvert_exporter": "python",
   "pygments_lexer": "ipython3",
   "version": "3.8.8"
  }
 },
 "nbformat": 4,
 "nbformat_minor": 4
}
