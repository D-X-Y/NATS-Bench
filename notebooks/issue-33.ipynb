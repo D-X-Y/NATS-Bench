{
 "cells": [
  {
   "cell_type": "code",
   "execution_count": 1,
   "metadata": {},
   "outputs": [
    {
     "name": "stdout",
     "output_type": "stream",
     "text": [
      "[2021-12-09 09:32:55] Try to use the default NATS-Bench (topology) path from fast_mode=True and path=None.\n",
      "There are 15625 architectures on the size search space\n"
     ]
    }
   ],
   "source": [
    "from nats_bench import create\n",
    "import numpy as np\n",
    "\n",
    "# Create the API for size search space\n",
    "api = create(None, 'tss', fast_mode=True, verbose=False)\n",
    "print('There are {:} architectures on the size search space'.format(len(api)))"
   ]
  },
  {
   "cell_type": "code",
   "execution_count": 2,
   "metadata": {},
   "outputs": [
    {
     "name": "stdout",
     "output_type": "stream",
     "text": [
      "(44.82400000488281, 0.014427971421626575, 287.3714566230774, 287.3714566230774)\n",
      "(19.71, 0.01402865074299, 567.5892686843872, 854.9607253074646)\n"
     ]
    }
   ],
   "source": [
    "print(api.simulate_train_eval(2, 'cifar10', iepoch=24, hp='200'))\n",
    "print(api.simulate_train_eval(2, 'cifar100', iepoch=24, hp='200'))"
   ]
  },
  {
   "cell_type": "code",
   "execution_count": 3,
   "metadata": {},
   "outputs": [
    {
     "name": "stdout",
     "output_type": "stream",
     "text": [
      "(30.21, 0.01402865074299, 2290.6443033218384, 3145.605028629303)\n",
      "(34.86, 0.01402865074299, 3424.233141899109, 6569.838170528412)\n",
      "(51.65, 0.01402865074299, 4104.386445045471, 10674.224615573883)\n",
      "(54.640000018310545, 0.01402865074299, 4535.150203704834, 15209.374819278717)\n"
     ]
    }
   ],
   "source": [
    "print(api.simulate_train_eval(2, 'cifar100', iepoch=100, hp='200'))\n",
    "print(api.simulate_train_eval(2, 'cifar100', iepoch=150, hp='200'))\n",
    "print(api.simulate_train_eval(2, 'cifar100', iepoch=180, hp='200'))\n",
    "print(api.simulate_train_eval(2, 'cifar100', iepoch=199, hp='200'))"
   ]
  },
  {
   "cell_type": "code",
   "execution_count": 4,
   "metadata": {},
   "outputs": [
    {
     "name": "stdout",
     "output_type": "stream",
     "text": [
      "(25.98333334350586, 0.012760758399963379, 12450.773810838671, 27660.148630117386)\n",
      "(27.033333257039388, 0.012760758399963379, 13757.711054611173, 41417.85968472856)\n"
     ]
    }
   ],
   "source": [
    "print(api.simulate_train_eval(2, 'ImageNet16-120', iepoch=180, hp='200'))\n",
    "print(api.simulate_train_eval(2, 'ImageNet16-120', iepoch=199, hp='200'))"
   ]
  }
 ],
 "metadata": {
  "kernelspec": {
   "display_name": "Python 3",
   "language": "python",
   "name": "python3"
  },
  "language_info": {
   "codemirror_mode": {
    "name": "ipython",
    "version": 3
   },
   "file_extension": ".py",
   "mimetype": "text/x-python",
   "name": "python",
   "nbconvert_exporter": "python",
   "pygments_lexer": "ipython3",
   "version": "3.8.8"
  }
 },
 "nbformat": 4,
 "nbformat_minor": 4
}
